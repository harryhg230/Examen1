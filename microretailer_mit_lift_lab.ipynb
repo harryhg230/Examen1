{
  "nbformat": 4,
  "nbformat_minor": 0,
  "metadata": {
    "colab": {
      "provenance": []
    },
    "kernelspec": {
      "name": "python3",
      "display_name": "Python 3"
    },
    "language_info": {
      "name": "python"
    }
  },
  "cells": [
    {
      "cell_type": "code",
      "execution_count": null,
      "metadata": {
        "id": "J1jtK5UxSaC2"
      },
      "outputs": [],
      "source": [
        "#Importamos librerias requeridas\n",
        "import pandas as pd\n",
        "import numpy as np\n",
        "import matplotlib.pyplot as plt\n",
        "import seaborn as sns\n",
        "import io\n",
        "import math"
      ]
    },
    {
      "cell_type": "code",
      "source": [
        "#Cargamos el archivo requerido \n",
        "from google.colab import files\n",
        "files.upload()"
      ],
      "metadata": {
        "id": "ZonO7zTHSgFs"
      },
      "execution_count": null,
      "outputs": []
    },
    {
      "cell_type": "code",
      "source": [
        "#convertimos el excel en dataframe\n",
        "data=pd.read_excel('microretailer_mit_lift_lab.xlsx')\n",
        "data"
      ],
      "metadata": {
        "id": "dcJthouLS7sE"
      },
      "execution_count": null,
      "outputs": []
    },
    {
      "cell_type": "code",
      "source": [
        "#verificamos informacion del data frame\n",
        "data.info(1)"
      ],
      "metadata": {
        "id": "5ZSgrvjeTo7J"
      },
      "execution_count": null,
      "outputs": []
    },
    {
      "cell_type": "code",
      "source": [
        "#Como tenemos datos tipo string, float e int, debemos de separarlos para poder aplicar correctamente lo métodos de valores nulos,\n",
        "#de manera que crearemos un filtro con las variables numéricas\n",
        "filtro1=data.iloc[ : , [5,6,13,14,16,21,22,29,31,33,41,42,43,44,45,49,51,56,57,58,59,60,78,90,104]] #columnas numericas"
      ],
      "metadata": {
        "id": "5YgTMoXcada8"
      },
      "execution_count": null,
      "outputs": []
    },
    {
      "cell_type": "code",
      "source": [
        "#Verificamos que todos los datos sean numéricos\n",
        "filtro1.info(1)"
      ],
      "metadata": {
        "id": "0AO0LMxIerN4"
      },
      "execution_count": null,
      "outputs": []
    },
    {
      "cell_type": "code",
      "source": [
        "#corroboramos valores nulos por columna\n",
        "valores_nulos=data.isnull().sum()\n",
        "valores_nulos"
      ],
      "metadata": {
        "id": "_YHURQjkfIcY"
      },
      "execution_count": null,
      "outputs": []
    },
    {
      "cell_type": "code",
      "source": [
        "#Hacemos una copia\n",
        "data2=filtro1.copy()\n"
      ],
      "metadata": {
        "id": "WbAJ6RUCgXEB"
      },
      "execution_count": null,
      "outputs": []
    },
    {
      "cell_type": "code",
      "source": [
        "#corroboramos valores nulos por columna\n",
        "valores_nulos=data2.isnull().sum()\n",
        "valores_nulos"
      ],
      "metadata": {
        "id": "IYrl6h9MxaIM"
      },
      "execution_count": null,
      "outputs": []
    },
    {
      "cell_type": "code",
      "source": [
        "#observando rápidamente los datos que hay en la base de datos, se puede ver que la mejor opción es una mediana, ya que la mayorría de los datos \n",
        "#rondan por el mismo valor, y si existe algun outlayers significativo este puede mover el promedio, en cambio con la media nos aseguramos que los valores sustituidos\n",
        "#sean más confiables \n",
        "#dato extra: lo redondeamos sin decimales ya que conforme a los datos, es ilógico tener decimales \n",
        "data3=data2.fillna(round(data2.median()))\n"
      ],
      "metadata": {
        "id": "nJy08OwTwo0W"
      },
      "execution_count": null,
      "outputs": []
    },
    {
      "cell_type": "code",
      "source": [
        "#corroboramos valores nulos por columna\n",
        "valores_nulos=data3.isnull().sum()\n",
        "valores_nulos"
      ],
      "metadata": {
        "id": "ReN9a-FDxexL"
      },
      "execution_count": null,
      "outputs": []
    },
    {
      "cell_type": "code",
      "source": [
        "#gracias a el conteo de los valores nulos, nos damos cuenta que hay columnas que en su totalidad son valores nulos, de manera que \n",
        "#lo ideal es eliminarlas, ya que no aportan nada de información\n",
        "data4= data3.drop(['271_card_fee',\"274_platform_fee\",\"273_platform_extra_charge\",\"275_platform_days_receive_money\"],axis=1)\n",
        "data4"
      ],
      "metadata": {
        "id": "UHi0h54Hx3Yr"
      },
      "execution_count": null,
      "outputs": []
    },
    {
      "cell_type": "code",
      "source": [
        "#corroboramos valores nulos por columna\n",
        "valores_nulos=data4.isnull().sum()\n",
        "valores_nulos"
      ],
      "metadata": {
        "id": "a4lhDcgSyqlN"
      },
      "execution_count": null,
      "outputs": []
    },
    {
      "cell_type": "markdown",
      "source": [
        "Outlayers"
      ],
      "metadata": {
        "id": "TI9tsUVo3Yvb"
      }
    },
    {
      "cell_type": "code",
      "source": [
        "#utilizaremos el método de desviación estándar ya que con las tres desviaciones setándar hacia la izquierda y a la derecha, abarcamos el 95% de los datos totales \n",
        "#de manera que al tratarse de una base de datos no tan grande, pues es ideal únicamente cambiar los outlayers que sean muy significativos, ya que con este método\n",
        "#los l{imites son más grandes\n",
        "y=data4\n",
        "Limite_Superior= y.mean() + 3*y.std()\n",
        "Limite_Inferior= y.mean() - 3*y.std()\n",
        "print(\"Limite superior permitido\", Limite_Superior)\n",
        "print(\"Limite inferior permitido\", Limite_Inferior)"
      ],
      "metadata": {
        "id": "PGf-7tHy3pC1"
      },
      "execution_count": null,
      "outputs": []
    },
    {
      "cell_type": "code",
      "source": [
        "#Encontramos Ouliers\n",
        "outliers= data4[(y>Limite_Superior)|(y<Limite_Inferior)]\n",
        "outliers"
      ],
      "metadata": {
        "id": "Ai6Rji9f3uMF"
      },
      "execution_count": null,
      "outputs": []
    },
    {
      "cell_type": "code",
      "source": [
        "#Obtenemos datos limpios\n",
        "data_clean4= data4[(y<=Limite_Superior)&(y>=Limite_Inferior)]\n",
        "data_clean4"
      ],
      "metadata": {
        "id": "TisPTxiM33xu"
      },
      "execution_count": null,
      "outputs": []
    },
    {
      "cell_type": "code",
      "source": [
        "#Cantidad de outlayers por columna \n",
        "valores_nulos=data_clean4.isnull().sum()\n",
        "valores_nulos"
      ],
      "metadata": {
        "id": "MgXqFUUv5n7O"
      },
      "execution_count": null,
      "outputs": []
    },
    {
      "cell_type": "code",
      "source": [
        "#Reemplazamos valores atípicos (nulos) del dataframe con \"mean\", ya que en primera instancia al haberlos cambiado por la mediana (los nulos), ahora nos conviene \n",
        "#tomar el promedio de los datos \n",
        "\n",
        "data_clean5=data_clean4.copy()\n",
        "data_clean5=data_clean5.fillna(round(data_clean4.mean()))\n",
        "data_clean5"
      ],
      "metadata": {
        "id": "hpf4CCAc6VfO"
      },
      "execution_count": null,
      "outputs": []
    },
    {
      "cell_type": "code",
      "source": [
        "#corroboramos valores nulos por columna\n",
        "valores_nulos=data_clean5.isnull().sum()\n",
        "valores_nulos"
      ],
      "metadata": {
        "id": "NMnBWtje66i1"
      },
      "execution_count": null,
      "outputs": []
    },
    {
      "cell_type": "code",
      "source": [
        "#Una vez limpios los datos numéricos, ahora toca filtrar los datos tipo objeto o stringg, así que los almacenamos en una variable \n",
        "filtro2=data.iloc[ : , [0,1,2,3,4,7,8,9,10,11,12,15,17,18,19,20,23,24,25,26,27,28,30,32,34,35,36,37,38,39,40,46,47,48,50,52,53,54,55,61,62,63,64,65,66,67,68,69,70,71,72,73,74,75,76,77,79,80,81,82,83,84,85,86,87,88,89,91,92,93,94,95,96,97,98,99,100,101,102,103]]\n"
      ],
      "metadata": {
        "id": "wyDyizywzCbU"
      },
      "execution_count": null,
      "outputs": []
    },
    {
      "cell_type": "code",
      "source": [
        "#comprobamos que tengamos puros datos object\n",
        "filtro2.info(1)"
      ],
      "metadata": {
        "id": "EIkVvvMIzudN"
      },
      "execution_count": null,
      "outputs": []
    },
    {
      "cell_type": "code",
      "source": [
        "data5=filtro2.copy()"
      ],
      "metadata": {
        "id": "L7wj7go41NtE"
      },
      "execution_count": null,
      "outputs": []
    },
    {
      "cell_type": "code",
      "source": [
        "#corroboramos valores nulos por columna\n",
        "valores_nulos=data5.isnull().sum()\n",
        "valores_nulos"
      ],
      "metadata": {
        "id": "cYeVUi_G1JpN"
      },
      "execution_count": null,
      "outputs": []
    },
    {
      "cell_type": "code",
      "source": [
        "#al tratarse de datos tipo object, la mejor opción será sustutuir los valores nulos con un foward fill y un back fill, usando los dos, porque inspeccionando \n",
        "#los datos observé que hay datos nulos al iniciar, por lo que si solo usamos un forwrdfill no se sustituirán todos los valores nulos, y al utilizar estos dos metodos\n",
        "#nos aseguramos que todos los valores nulos sean remplazados \n",
        "data6=data5.fillna(method=\"ffill\")\n",
        "data6=data6.fillna(method=\"bfill\")"
      ],
      "metadata": {
        "id": "wpj4fj1q1Xe8"
      },
      "execution_count": null,
      "outputs": []
    },
    {
      "cell_type": "code",
      "source": [
        "#corroboramos valores nulos totales\n",
        "valores_nulos=data6.isnull().sum().sum()\n",
        "valores_nulos"
      ],
      "metadata": {
        "id": "BSAjqFpM1eKl"
      },
      "execution_count": null,
      "outputs": []
    },
    {
      "cell_type": "code",
      "source": [
        "#Una vez limpios todos los datos, es momento de juntar los datos tanto numéricos como object \n",
        "datafinal=pd.concat([data_clean5,data6],axis=1)\n",
        "datafinal.info(1)"
      ],
      "metadata": {
        "id": "vKqotYWN1rC1"
      },
      "execution_count": null,
      "outputs": []
    },
    {
      "cell_type": "code",
      "source": [
        "#Ultima comprobación de valores nulos totales \n",
        "valores_nulos=datafinal.isnull().sum().sum()\n",
        "valores_nulos"
      ],
      "metadata": {
        "id": "179QYu3T2O0l"
      },
      "execution_count": null,
      "outputs": []
    },
    {
      "cell_type": "code",
      "source": [
        "#Convertir DataFrame a excel\n",
        "datafinal.to_excel(\"microretailer_mit_lift_lab(limpio).xlsx\")\n",
        "#descargar archivo filtrado en xlsx\n",
        "from google.colab import files \n",
        "  \n",
        "  \n",
        "files.download(\"microretailer_mit_lift_lab(limpio).xlsx\")"
      ],
      "metadata": {
        "id": "Egppvd1u7Mbm"
      },
      "execution_count": null,
      "outputs": []
    }
  ]
}